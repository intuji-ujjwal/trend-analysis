import pandas as pd
import numpy as np
import matplotlib.pyplot as plt
import seaborn as sns
from datetime import datetime
import calendar
import warnings
warnings.filterwarnings('ignore')

# Set global style for plots
plt.style.use('seaborn-v0_8')
sns.set_palette("husl")

# + [markdown] id="load_data"
# ## 1. Load and Inspect the Data

# + id="load_station_data"
# Load the station data (daily)
station_df = pd.read_excel('Chitwan-upto-3-Aug-2024.xlsx', sheet_name=0)

# Display the first few rows and info
print("Station Data (Daily) - First 5 Rows:")
display(station_df.head())

print("\nStation Data Info:")
display(station_df.info())

# + id="load_era5_data"
# Load the ERA5 data (monthly)
era5_df = pd.read_excel('ERA5_Monthly_Precipitation_2001_2025.xlsx')

# Display the first few rows and info
print("ERA5 Data (Monthly) - First 5 Rows:")
display(era5_df.head())

print("\nERA5 Data Info:")
display(era5_df.info())

# + [markdown] id="clean_data"
# ## 2. Clean and Prepare the Data

# + id="clean_station_data"
# For station data, ensure 'Date' is datetime and select relevant columns
station_df['Date'] = pd.to_datetime(station_df['Date'])
station_df = station_df[['Date', 'Rain_mm_total']].copy()
station_df = station_df.rename(columns={'Rain_mm_total': 'Daily_Rainfall_mm'})
station_df.set_index('Date', inplace=True)

# Handle any potential missing or erroneous values (e.g., negative rainfall)
station_df['Daily_Rainfall_mm'] = station_df['Daily_Rainfall_mm'].clip(lower=0)

print("Cleaned Station Data:")
display(station_df.head())
print(f"\nDate Range: {station_df.index.min()} to {station_df.index.max()}")
print(f"Total Days: {len(station_df)}")

# + id="clean_era5_data"
# For ERA5 data, select and rename relevant columns
era5_df_clean = era5_df[['mean', 'month', 'year']].copy()
era5_df_clean = era5_df_clean.rename(columns={'mean': 'Monthly_Rainfall_m'})

# Create a 'Date' column for the first day of each month
era5_df_clean['Date'] = pd.to_datetime(
    era5_df_clean['year'].astype(str) + '-' + era5_df_clean['month'].astype(str) + '-01'
)

# Convert rainfall from meters to millimeters for consistency
era5_df_clean['Monthly_Rainfall_mm'] = era5_df_clean['Monthly_Rainfall_m'] * 1000

# Set 'Date' as index
era5_df_clean.set_index('Date', inplace=True)
era5_df_clean = era5_df_clean[['Monthly_Rainfall_mm']]

print("Cleaned ERA5 Data:")
display(era5_df_clean.head())
print(f"\nDate Range: {era5_df_clean.index.min()} to {era5_df_clean.index.max()}")

# + [markdown] id="aggregate_data"
# ## 3. Aggregate Station Data to Monthly Level for Comparison

# + id="aggregate_to_monthly"
# Resample station data to get monthly totals
station_monthly = station_df.resample('MS').sum() # 'MS' is month start
station_monthly = station_monthly.rename(columns={'Daily_Rainfall_mm': 'Monthly_Total_Rainfall_mm'})

# Create a column for the month name for seasonal analysis
station_monthly['Month_Name'] = station_monthly.index.month_name()
station_monthly['Year'] = station_monthly.index.year

print("Station Data Aggregated to Monthly Totals:")
display(station_monthly.head())

# + [markdown] id="visualize_trends"
# ## 4. Visualize Trends Over Time

# + id="plot_annual_trend_station"
# Calculate annual rainfall from station data
station_annual = station_df.resample('Y').sum()
station_annual = station_annual.rename(columns={'Daily_Rainfall_mm': 'Annual_Rainfall_mm'})

# Plot annual trend for station data
plt.figure(figsize=(14, 6))
plt.plot(station_annual.index.year, station_annual['Annual_Rainfall_mm'], marker='o', linestyle='-', linewidth=2)
plt.title('Annual Rainfall Trend (Station Data)', fontsize=16, fontweight='bold')
plt.xlabel('Year', fontsize=12)
plt.ylabel('Annual Rainfall (mm)', fontsize=12)
plt.grid(True, alpha=0.3)
plt.xticks(station_annual.index.year, rotation=45)
plt.tight_layout()
plt.show()

# Print basic trend statistics
print("Annual Rainfall Statistics (Station Data):")
print(station_annual['Annual_Rainfall_mm'].describe())

# + id="plot_monthly_trend_comparison"
# For comparison, we need to align the time periods.
# Let's find the common period between station_monthly and era5_df_clean.
common_start = max(station_monthly.index.min(), era5_df_clean.index.min())
common_end = min(station_monthly.index.max(), era5_df_clean.index.max())

station_monthly_common = station_monthly[common_start:common_end]
era5_monthly_common = era5_df_clean[common_start:common_end]

# Plot both datasets on the same graph
plt.figure(figsize=(18, 8))

plt.plot(station_monthly_common.index, station_monthly_common['Monthly_Total_Rainfall_mm'], label='Station Data (Monthly Total)', marker='o', alpha=0.8, linewidth=2)
plt.plot(era5_monthly_common.index, era5_monthly_common['Monthly_Rainfall_mm'], label='ERA5 Data (Monthly Average * 1000)', marker='s', alpha=0.8, linewidth=2)

plt.title('Monthly Rainfall: Station Data vs. ERA5 Reanalysis', fontsize=16, fontweight='bold')
plt.xlabel('Date', fontsize=12)
plt.ylabel('Rainfall (mm)', fontsize=12)
plt.legend(fontsize=12)
plt.grid(True, alpha=0.3)
plt.xticks(rotation=45)
plt.tight_layout()
plt.show()

# + [markdown] id="analyze_seasonality"
# ## 5. Analyze Seasonal Patterns

# + id="plot_monthly_seasonality"
# Calculate average monthly rainfall from station data
monthly_avg_station = station_monthly.groupby('Month_Name')['Monthly_Total_Rainfall_mm'].mean()
# Reorder months chronologically
month_order = list(calendar.month_name)[1:]
monthly_avg_station = monthly_avg_station.reindex(month_order)

# Calculate average monthly rainfall from ERA5 data
era5_df_clean['Month_Name'] = era5_df_clean.index.month_name()
monthly_avg_era5 = era5_df_clean.groupby('Month_Name')['Monthly_Rainfall_mm'].mean()
monthly_avg_era5 = monthly_avg_era5.reindex(month_order)

# Plot seasonal patterns
fig, ax = plt.subplots(2, 1, figsize=(14, 10), sharex=True)

# Station Data Seasonality
ax[0].bar(monthly_avg_station.index, monthly_avg_station.values, color='skyblue', edgecolor='black')
ax[0].set_title('Average Monthly Rainfall - Station Data', fontsize=14, fontweight='bold')
ax[0].set_ylabel('Rainfall (mm)', fontsize=12)
ax[0].grid(axis='y', alpha=0.3)

# ERA5 Data Seasonality
ax[1].bar(monthly_avg_era5.index, monthly_avg_era5.values, color='lightcoral', edgecolor='black')
ax[1].set_title('Average Monthly Rainfall - ERA5 Reanalysis', fontsize=14, fontweight='bold')
ax[1].set_xlabel('Month', fontsize=12)
ax[1].set_ylabel('Rainfall (mm)', fontsize=12)
ax[1].grid(axis='y', alpha=0.3)

plt.xticks(rotation=45)
plt.tight_layout()
plt.show()

# Print the average monthly values
print("Average Monthly Rainfall (Station Data):")
display(monthly_avg_station)

print("\nAverage Monthly Rainfall (ERA5 Data):")
display(monthly_avg_era5)

# + id="plot_heatmap"
# Create a heatmap for station data to show year vs. month patterns
# Pivot the station_monthly data
heatmap_data = station_monthly.pivot_table(index='Year', columns='Month_Name', values='Monthly_Total_Rainfall_mm', aggfunc='sum')
heatmap_data = heatmap_data[month_order] # Ensure correct month order

plt.figure(figsize=(16, 8))
sns.heatmap(heatmap_data, annot=True, fmt='.0f', cmap='Blues', cbar_kws={'label': 'Rainfall (mm)'})
plt.title('Heatmap of Monthly Rainfall by Year (Station Data)', fontsize=16, fontweight='bold')
plt.xlabel('Month', fontsize=12)
plt.ylabel('Year', fontsize=12)
plt.xticks(rotation=45)
plt.yticks(rotation=0)
plt.tight_layout()
plt.show()

# + [markdown] id="extreme_events"
# ## 6. Analyze Extreme Events

# + id="analyze_extremes"
# Define a threshold for "extreme rainfall day" (e.g., 95th percentile)
extreme_threshold = station_df['Daily_Rainfall_mm'].quantile(0.95)
print(f"Extreme Rainfall Day Threshold (95th percentile): {extreme_threshold:.2f} mm")

extreme_days = station_df[station_df['Daily_Rainfall_mm'] > extreme_threshold]
print(f"Number of Extreme Rainfall Days: {len(extreme_days)}")

# Plot the distribution of daily rainfall
plt.figure(figsize=(14, 6))
plt.hist(station_df['Daily_Rainfall_mm'], bins=50, color='green', edgecolor='black', alpha=0.7)
plt.axvline(extreme_threshold, color='red', linestyle='--', label=f'95th Percentile ({extreme_threshold:.2f} mm)')
plt.title('Distribution of Daily Rainfall', fontsize=16, fontweight='bold')
plt.xlabel('Daily Rainfall (mm)', fontsize=12)
plt.ylabel('Frequency', fontsize=12)
plt.legend()
plt.grid(axis='y', alpha=0.3)
plt.xlim(0, station_df['Daily_Rainfall_mm'].quantile(0.99)) # Limit x-axis to 99th percentile for better view
plt.tight_layout()
plt.show()

# Find the top 10 wettest days
top_10_wettest = station_df.nlargest(10, 'Daily_Rainfall_mm')
print("\nTop 10 Wettest Days:")
display(top_10_wettest)
